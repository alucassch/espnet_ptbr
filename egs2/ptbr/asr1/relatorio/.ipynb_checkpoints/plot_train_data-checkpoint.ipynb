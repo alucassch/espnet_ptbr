{
 "cells": [
  {
   "cell_type": "code",
   "execution_count": 9,
   "metadata": {},
   "outputs": [],
   "source": [
    "%matplotlib inline\n",
    "import matplotlib.pyplot as plt\n",
    "import json\n",
    "import os\n",
    "root_dir = '/mnt/c/Users/aluca/Desktop/relatorio_ML/imagens/train_data/'\n",
    "\n",
    "data_raw = {}\n",
    "for model in ['rnn', 'vggrnn', 'transformer']:\n",
    "    for t in ['train', 'val']:\n",
    "        for metric in ['acc', 'lossatt', 'lossctc', 'losstotal']:\n",
    "            for token in ['char', 'bpe']:\n",
    "                tag = model+'_'+metric+'_'+t+'_'+token\n",
    "                with open(root_dir+tag+'.json') as f:\n",
    "                    x = []\n",
    "                    y = []\n",
    "                    for item in json.load(f):\n",
    "                        _,xx,yy=item\n",
    "                        x.append(xx)\n",
    "                        y.append(yy)\n",
    "                    \n",
    "                    data_raw[tag] = (x,y)"
   ]
  },
  {
   "cell_type": "code",
   "execution_count": 10,
   "metadata": {},
   "outputs": [
    {
     "data": {
      "text/plain": [
       "dict_keys(['rnn_acc_train_char', 'rnn_acc_train_bpe', 'rnn_lossatt_train_char', 'rnn_lossatt_train_bpe', 'rnn_lossctc_train_char', 'rnn_lossctc_train_bpe', 'rnn_losstotal_train_char', 'rnn_losstotal_train_bpe', 'rnn_acc_val_char', 'rnn_acc_val_bpe', 'rnn_lossatt_val_char', 'rnn_lossatt_val_bpe', 'rnn_lossctc_val_char', 'rnn_lossctc_val_bpe', 'rnn_losstotal_val_char', 'rnn_losstotal_val_bpe', 'vggrnn_acc_train_char', 'vggrnn_acc_train_bpe', 'vggrnn_lossatt_train_char', 'vggrnn_lossatt_train_bpe', 'vggrnn_lossctc_train_char', 'vggrnn_lossctc_train_bpe', 'vggrnn_losstotal_train_char', 'vggrnn_losstotal_train_bpe', 'vggrnn_acc_val_char', 'vggrnn_acc_val_bpe', 'vggrnn_lossatt_val_char', 'vggrnn_lossatt_val_bpe', 'vggrnn_lossctc_val_char', 'vggrnn_lossctc_val_bpe', 'vggrnn_losstotal_val_char', 'vggrnn_losstotal_val_bpe', 'transformer_acc_train_char', 'transformer_acc_train_bpe', 'transformer_lossatt_train_char', 'transformer_lossatt_train_bpe', 'transformer_lossctc_train_char', 'transformer_lossctc_train_bpe', 'transformer_losstotal_train_char', 'transformer_losstotal_train_bpe', 'transformer_acc_val_char', 'transformer_acc_val_bpe', 'transformer_lossatt_val_char', 'transformer_lossatt_val_bpe', 'transformer_lossctc_val_char', 'transformer_lossctc_val_bpe', 'transformer_losstotal_val_char', 'transformer_losstotal_val_bpe'])"
      ]
     },
     "execution_count": 10,
     "metadata": {},
     "output_type": "execute_result"
    }
   ],
   "source": [
    "data_raw.keys()"
   ]
  },
  {
   "cell_type": "code",
   "execution_count": 2,
   "metadata": {},
   "outputs": [
    {
     "ename": "KeyError",
     "evalue": "'rnn_acc_train_char'",
     "output_type": "error",
     "traceback": [
      "\u001b[0;31m---------------------------------------------------------------------------\u001b[0m",
      "\u001b[0;31mKeyError\u001b[0m                                  Traceback (most recent call last)",
      "\u001b[0;32m<ipython-input-2-152a9a74758f>\u001b[0m in \u001b[0;36m<module>\u001b[0;34m\u001b[0m\n\u001b[1;32m      1\u001b[0m \u001b[0mfig\u001b[0m\u001b[0;34m,\u001b[0m \u001b[0max1\u001b[0m \u001b[0;34m=\u001b[0m \u001b[0mplt\u001b[0m\u001b[0;34m.\u001b[0m\u001b[0msubplots\u001b[0m\u001b[0;34m(\u001b[0m\u001b[0;34m)\u001b[0m\u001b[0;34m\u001b[0m\u001b[0;34m\u001b[0m\u001b[0m\n\u001b[1;32m      2\u001b[0m \u001b[0max1\u001b[0m\u001b[0;34m.\u001b[0m\u001b[0mset_title\u001b[0m\u001b[0;34m(\u001b[0m\u001b[0;34m'Acurácia de treinamento e validação do modelo RNN'\u001b[0m\u001b[0;34m)\u001b[0m\u001b[0;34m\u001b[0m\u001b[0;34m\u001b[0m\u001b[0m\n\u001b[0;32m----> 3\u001b[0;31m \u001b[0max1\u001b[0m\u001b[0;34m.\u001b[0m\u001b[0mplot\u001b[0m\u001b[0;34m(\u001b[0m\u001b[0mdata_raw\u001b[0m\u001b[0;34m[\u001b[0m\u001b[0;34m'rnn_acc_train_char'\u001b[0m\u001b[0;34m]\u001b[0m\u001b[0;34m[\u001b[0m\u001b[0;36m0\u001b[0m\u001b[0;34m]\u001b[0m\u001b[0;34m,\u001b[0m\u001b[0mdata_raw\u001b[0m\u001b[0;34m[\u001b[0m\u001b[0;34m'rnn_acc_train_char'\u001b[0m\u001b[0;34m]\u001b[0m\u001b[0;34m[\u001b[0m\u001b[0;36m1\u001b[0m\u001b[0;34m]\u001b[0m\u001b[0;34m,\u001b[0m \u001b[0mlabel\u001b[0m\u001b[0;34m=\u001b[0m\u001b[0;34m'Treinamento (char)'\u001b[0m\u001b[0;34m,\u001b[0m \u001b[0mcolor\u001b[0m\u001b[0;34m=\u001b[0m\u001b[0;34m'b'\u001b[0m \u001b[0;34m)\u001b[0m\u001b[0;34m\u001b[0m\u001b[0;34m\u001b[0m\u001b[0m\n\u001b[0m\u001b[1;32m      4\u001b[0m \u001b[0max1\u001b[0m\u001b[0;34m.\u001b[0m\u001b[0mplot\u001b[0m\u001b[0;34m(\u001b[0m\u001b[0mdata_raw\u001b[0m\u001b[0;34m[\u001b[0m\u001b[0;34m'rnn_acc_train_bpe'\u001b[0m\u001b[0;34m]\u001b[0m\u001b[0;34m[\u001b[0m\u001b[0;36m0\u001b[0m\u001b[0;34m]\u001b[0m\u001b[0;34m,\u001b[0m\u001b[0mdata_raw\u001b[0m\u001b[0;34m[\u001b[0m\u001b[0;34m'rnn_acc_train_bpe'\u001b[0m\u001b[0;34m]\u001b[0m\u001b[0;34m[\u001b[0m\u001b[0;36m1\u001b[0m\u001b[0;34m]\u001b[0m\u001b[0;34m,\u001b[0m \u001b[0mlabel\u001b[0m\u001b[0;34m=\u001b[0m\u001b[0;34m'Treinamento (subwords)'\u001b[0m\u001b[0;34m,\u001b[0m \u001b[0mcolor\u001b[0m\u001b[0;34m=\u001b[0m\u001b[0;34m'c'\u001b[0m \u001b[0;34m)\u001b[0m\u001b[0;34m\u001b[0m\u001b[0;34m\u001b[0m\u001b[0m\n\u001b[1;32m      5\u001b[0m \u001b[0max1\u001b[0m\u001b[0;34m.\u001b[0m\u001b[0mset_xlabel\u001b[0m\u001b[0;34m(\u001b[0m\u001b[0;34m'Train steps'\u001b[0m\u001b[0;34m)\u001b[0m\u001b[0;34m\u001b[0m\u001b[0;34m\u001b[0m\u001b[0m\n",
      "\u001b[0;31mKeyError\u001b[0m: 'rnn_acc_train_char'"
     ]
    },
    {
     "data": {
      "image/png": "[encoded data removed]",
      "text/plain": [
       "<Figure size 432x288 with 1 Axes>"
      ]
     },
     "metadata": {
      "needs_background": "light"
     },
     "output_type": "display_data"
    }
   ],
   "source": [
    "fig, ax1 = plt.subplots()\n",
    "ax1.set_title('Acurácia de treinamento e validação do modelo RNN')\n",
    "ax1.plot(data_raw['rnn_acc_train_char'][0],data_raw['rnn_acc_train_char'][1], label='Treinamento (char)', color='b' )\n",
    "ax1.plot(data_raw['rnn_acc_train_bpe'][0],data_raw['rnn_acc_train_bpe'][1], label='Treinamento (subwords)', color='c' )\n",
    "ax1.set_xlabel('Train steps')\n",
    "ax1.set_ylabel('Acurácia')\n",
    "ax2 = ax1.twiny()\n",
    "ax2.plot(data_raw['rnn_acc_val_char'][0],data_raw['rnn_acc_val_char'][1], label='Validação (char)', color='r')\n",
    "ax2.plot(data_raw['rnn_acc_val_bpe'][0],data_raw['rnn_acc_val_bpe'][1], label='Validação (subwords)', color='m')\n",
    "\n",
    "ax2.set_xlabel('Época')\n",
    "ax2.set_ylabel('Acurácia')  # we already handled the x-label with ax1\n",
    "lgd = fig.legend(loc='center left', bbox_to_anchor=(1, 0.5))\n",
    "fig.tight_layout()\n",
    "fig.show()\n",
    "ax1.grid()\n",
    "ax1.set_xlim(xmin=0)\n",
    "fig.savefig(root_dir+'acc_rnn.png', bbox_extra_artists=(lgd,), bbox_inches='tight')"
   ]
  },
  {
   "cell_type": "code",
   "execution_count": 3,
   "metadata": {},
   "outputs": [
    {
     "ename": "KeyError",
     "evalue": "'rnn_lossatt_train_char'",
     "output_type": "error",
     "traceback": [
      "\u001b[0;31m---------------------------------------------------------------------------\u001b[0m",
      "\u001b[0;31mKeyError\u001b[0m                                  Traceback (most recent call last)",
      "\u001b[0;32m<ipython-input-3-db622e154a61>\u001b[0m in \u001b[0;36m<module>\u001b[0;34m\u001b[0m\n\u001b[1;32m      1\u001b[0m \u001b[0mfig\u001b[0m\u001b[0;34m,\u001b[0m \u001b[0max1\u001b[0m \u001b[0;34m=\u001b[0m \u001b[0mplt\u001b[0m\u001b[0;34m.\u001b[0m\u001b[0msubplots\u001b[0m\u001b[0;34m(\u001b[0m\u001b[0;34m)\u001b[0m\u001b[0;34m\u001b[0m\u001b[0;34m\u001b[0m\u001b[0m\n\u001b[1;32m      2\u001b[0m \u001b[0max1\u001b[0m\u001b[0;34m.\u001b[0m\u001b[0mset_title\u001b[0m\u001b[0;34m(\u001b[0m\u001b[0;34m'Funções custo de treinamento e validação do modelo RNN'\u001b[0m\u001b[0;34m)\u001b[0m\u001b[0;34m\u001b[0m\u001b[0;34m\u001b[0m\u001b[0m\n\u001b[0;32m----> 3\u001b[0;31m \u001b[0max1\u001b[0m\u001b[0;34m.\u001b[0m\u001b[0mplot\u001b[0m\u001b[0;34m(\u001b[0m\u001b[0mdata_raw\u001b[0m\u001b[0;34m[\u001b[0m\u001b[0;34m'rnn_lossatt_train_char'\u001b[0m\u001b[0;34m]\u001b[0m\u001b[0;34m[\u001b[0m\u001b[0;36m0\u001b[0m\u001b[0;34m]\u001b[0m\u001b[0;34m,\u001b[0m\u001b[0mdata_raw\u001b[0m\u001b[0;34m[\u001b[0m\u001b[0;34m'rnn_lossatt_train_char'\u001b[0m\u001b[0;34m]\u001b[0m\u001b[0;34m[\u001b[0m\u001b[0;36m1\u001b[0m\u001b[0;34m]\u001b[0m\u001b[0;34m,\u001b[0m \u001b[0;34m'b-'\u001b[0m\u001b[0;34m,\u001b[0m \u001b[0mlabel\u001b[0m\u001b[0;34m=\u001b[0m\u001b[0;34m'Loss attention Treinamento (char)'\u001b[0m\u001b[0;34m)\u001b[0m\u001b[0;34m\u001b[0m\u001b[0;34m\u001b[0m\u001b[0m\n\u001b[0m\u001b[1;32m      4\u001b[0m \u001b[0max1\u001b[0m\u001b[0;34m.\u001b[0m\u001b[0mplot\u001b[0m\u001b[0;34m(\u001b[0m\u001b[0mdata_raw\u001b[0m\u001b[0;34m[\u001b[0m\u001b[0;34m'rnn_lossctc_train_char'\u001b[0m\u001b[0;34m]\u001b[0m\u001b[0;34m[\u001b[0m\u001b[0;36m0\u001b[0m\u001b[0;34m]\u001b[0m\u001b[0;34m,\u001b[0m\u001b[0mdata_raw\u001b[0m\u001b[0;34m[\u001b[0m\u001b[0;34m'rnn_lossctc_train_char'\u001b[0m\u001b[0;34m]\u001b[0m\u001b[0;34m[\u001b[0m\u001b[0;36m1\u001b[0m\u001b[0;34m]\u001b[0m\u001b[0;34m,\u001b[0m\u001b[0;34m'r-'\u001b[0m\u001b[0;34m,\u001b[0m \u001b[0mlabel\u001b[0m\u001b[0;34m=\u001b[0m\u001b[0;34m'Loss CTC Treinamento (char)'\u001b[0m\u001b[0;34m)\u001b[0m\u001b[0;34m\u001b[0m\u001b[0;34m\u001b[0m\u001b[0m\n\u001b[1;32m      5\u001b[0m \u001b[0max1\u001b[0m\u001b[0;34m.\u001b[0m\u001b[0mplot\u001b[0m\u001b[0;34m(\u001b[0m\u001b[0mdata_raw\u001b[0m\u001b[0;34m[\u001b[0m\u001b[0;34m'rnn_losstotal_train_char'\u001b[0m\u001b[0;34m]\u001b[0m\u001b[0;34m[\u001b[0m\u001b[0;36m0\u001b[0m\u001b[0;34m]\u001b[0m\u001b[0;34m,\u001b[0m\u001b[0mdata_raw\u001b[0m\u001b[0;34m[\u001b[0m\u001b[0;34m'rnn_losstotal_train_char'\u001b[0m\u001b[0;34m]\u001b[0m\u001b[0;34m[\u001b[0m\u001b[0;36m1\u001b[0m\u001b[0;34m]\u001b[0m\u001b[0;34m,\u001b[0m\u001b[0;34m'g-'\u001b[0m\u001b[0;34m,\u001b[0m \u001b[0mlabel\u001b[0m\u001b[0;34m=\u001b[0m\u001b[0;34m'Loss Total Treinamento (char)'\u001b[0m\u001b[0;34m)\u001b[0m\u001b[0;34m\u001b[0m\u001b[0;34m\u001b[0m\u001b[0m\n",
      "\u001b[0;31mKeyError\u001b[0m: 'rnn_lossatt_train_char'"
     ]
    },
    {
     "data": {
      "image/png": "[encoded data removed]",
      "text/plain": [
       "<Figure size 432x288 with 1 Axes>"
      ]
     },
     "metadata": {
      "needs_background": "light"
     },
     "output_type": "display_data"
    }
   ],
   "source": [
    "fig, ax1 = plt.subplots()\n",
    "ax1.set_title('Funções custo de treinamento e validação do modelo RNN')\n",
    "ax1.plot(data_raw['rnn_lossatt_train_char'][0],data_raw['rnn_lossatt_train_char'][1], 'b-', label='Loss attention Treinamento (char)')\n",
    "ax1.plot(data_raw['rnn_lossctc_train_char'][0],data_raw['rnn_lossctc_train_char'][1],'r-', label='Loss CTC Treinamento (char)')\n",
    "ax1.plot(data_raw['rnn_losstotal_train_char'][0],data_raw['rnn_losstotal_train_char'][1],'g-', label='Loss Total Treinamento (char)')\n",
    "ax1.plot(data_raw['rnn_lossatt_train_bpe'][0],data_raw['rnn_lossatt_train_bpe'][1], 'c-', label='Loss attention Treinamento (subwords)')\n",
    "ax1.plot(data_raw['rnn_lossctc_train_bpe'][0],data_raw['rnn_lossctc_train_bpe'][1],'m-', label='Loss CTC Treinamento (subword)')\n",
    "ax1.plot(data_raw['rnn_losstotal_train_bpe'][0],data_raw['rnn_losstotal_train_bpe'][1],'y-', label='Loss Total Treinamento (subwords)')\n",
    "\n",
    "ax1.set_xlabel('Train steps')\n",
    "ax1.set_ylabel('Loss')\n",
    "\n",
    "ax2 = ax1.twiny()\n",
    "\n",
    "ax2.plot(data_raw['rnn_lossatt_val_char'][0],data_raw['rnn_lossatt_val_char'][1],'b--', label='Loss attention Validação (char)'  )\n",
    "ax2.plot(data_raw['rnn_lossctc_val_char'][0],data_raw['rnn_lossctc_val_char'][1], 'r--',label='Loss CTC Validação(char)')\n",
    "ax2.plot(data_raw['rnn_losstotal_val_char'][0],data_raw['rnn_losstotal_val_char'][1], 'g--',label='Loss Total Validação (char)')\n",
    "ax2.plot(data_raw['rnn_lossatt_val_bpe'][0],data_raw['rnn_lossatt_val_bpe'][1],'c--', label='Loss attention Validação (subwords)'  )\n",
    "ax2.plot(data_raw['rnn_lossctc_val_bpe'][0],data_raw['rnn_lossctc_val_bpe'][1], 'm--',label='Loss CTC Validação (subwords)')\n",
    "ax2.plot(data_raw['rnn_losstotal_val_bpe'][0],data_raw['rnn_losstotal_val_bpe'][1], 'y--',label='Loss Total Validação (subwords)')\n",
    "ax2.set_xlabel('Época')\n",
    "ax2.set_ylabel('Acc')  # we already handled the x-label with ax1\n",
    "lgd = fig.legend(loc='center left', bbox_to_anchor=(1, 0.5))\n",
    "fig.tight_layout()\n",
    "fig.show()\n",
    "ax1.grid()\n",
    "ax1.set_xlim(xmin=0)\n",
    "fig.savefig(root_dir+'losses_rnn.png', bbox_extra_artists=(lgd,), bbox_inches='tight')"
   ]
  },
  {
   "cell_type": "code",
   "execution_count": null,
   "metadata": {},
   "outputs": [],
   "source": [
    "fig, ax1 = plt.subplots()\n",
    "ax1.set_title('Acurácia de treinamento e validação do modelo ConvRNN')\n",
    "ax1.plot(data_raw['vggrnn_acc_train_char'][0],data_raw['vggrnn_acc_train_char'][1], label='Treinamento (char)', color='b' )\n",
    "ax1.plot(data_raw['vggrnn_acc_train_bpe'][0],data_raw['vggrnn_acc_train_bpe'][1], label='Treinamento (subwords)', color='c' )\n",
    "\n",
    "ax1.set_xlabel('Train steps')\n",
    "ax1.set_ylabel('Acurácia')\n",
    "ax2 = ax1.twiny()\n",
    "ax2.plot(data_raw['vggrnn_acc_val_char'][0],data_raw['vggrnn_acc_val_char'][1], label='Validação (char)', color='r')\n",
    "ax2.plot(data_raw['vggrnn_acc_val_bpe'][0],data_raw['vggrnn_acc_val_bpe'][1], label='Validação (subwords)', color='m')\n",
    "ax2.set_xlabel('Época')\n",
    "ax2.set_ylabel('Acurácia')  # we already handled the x-label with ax1\n",
    "lgd = fig.legend(loc='center left', bbox_to_anchor=(1, 0.5))\n",
    "fig.tight_layout()\n",
    "fig.show()\n",
    "ax1.grid()\n",
    "ax1.set_xlim(xmin=0)\n",
    "fig.savefig(root_dir+'acc_vggrnn.png', bbox_extra_artists=(lgd,), bbox_inches='tight')"
   ]
  },
  {
   "cell_type": "code",
   "execution_count": 4,
   "metadata": {},
   "outputs": [
    {
     "ename": "KeyError",
     "evalue": "'vggrnn_lossatt_train_char'",
     "output_type": "error",
     "traceback": [
      "\u001b[0;31m---------------------------------------------------------------------------\u001b[0m",
      "\u001b[0;31mKeyError\u001b[0m                                  Traceback (most recent call last)",
      "\u001b[0;32m<ipython-input-4-2d4dd883ac88>\u001b[0m in \u001b[0;36m<module>\u001b[0;34m\u001b[0m\n\u001b[1;32m      1\u001b[0m \u001b[0mfig\u001b[0m\u001b[0;34m,\u001b[0m \u001b[0max1\u001b[0m \u001b[0;34m=\u001b[0m \u001b[0mplt\u001b[0m\u001b[0;34m.\u001b[0m\u001b[0msubplots\u001b[0m\u001b[0;34m(\u001b[0m\u001b[0;34m)\u001b[0m\u001b[0;34m\u001b[0m\u001b[0;34m\u001b[0m\u001b[0m\n\u001b[1;32m      2\u001b[0m \u001b[0max1\u001b[0m\u001b[0;34m.\u001b[0m\u001b[0mset_title\u001b[0m\u001b[0;34m(\u001b[0m\u001b[0;34m'Funções custo de treinamento e validação do modelo ConvRNN'\u001b[0m\u001b[0;34m)\u001b[0m\u001b[0;34m\u001b[0m\u001b[0;34m\u001b[0m\u001b[0m\n\u001b[0;32m----> 3\u001b[0;31m \u001b[0max1\u001b[0m\u001b[0;34m.\u001b[0m\u001b[0mplot\u001b[0m\u001b[0;34m(\u001b[0m\u001b[0mdata_raw\u001b[0m\u001b[0;34m[\u001b[0m\u001b[0;34m'vggrnn_lossatt_train_char'\u001b[0m\u001b[0;34m]\u001b[0m\u001b[0;34m[\u001b[0m\u001b[0;36m0\u001b[0m\u001b[0;34m]\u001b[0m\u001b[0;34m,\u001b[0m\u001b[0mdata_raw\u001b[0m\u001b[0;34m[\u001b[0m\u001b[0;34m'vggrnn_lossatt_train_char'\u001b[0m\u001b[0;34m]\u001b[0m\u001b[0;34m[\u001b[0m\u001b[0;36m1\u001b[0m\u001b[0;34m]\u001b[0m\u001b[0;34m,\u001b[0m \u001b[0;34m'b-'\u001b[0m\u001b[0;34m,\u001b[0m \u001b[0mlabel\u001b[0m\u001b[0;34m=\u001b[0m\u001b[0;34m'Loss attention Treinamento (char)'\u001b[0m\u001b[0;34m)\u001b[0m\u001b[0;34m\u001b[0m\u001b[0;34m\u001b[0m\u001b[0m\n\u001b[0m\u001b[1;32m      4\u001b[0m \u001b[0max1\u001b[0m\u001b[0;34m.\u001b[0m\u001b[0mplot\u001b[0m\u001b[0;34m(\u001b[0m\u001b[0mdata_raw\u001b[0m\u001b[0;34m[\u001b[0m\u001b[0;34m'vggrnn_lossctc_train_char'\u001b[0m\u001b[0;34m]\u001b[0m\u001b[0;34m[\u001b[0m\u001b[0;36m0\u001b[0m\u001b[0;34m]\u001b[0m\u001b[0;34m,\u001b[0m\u001b[0mdata_raw\u001b[0m\u001b[0;34m[\u001b[0m\u001b[0;34m'vggrnn_lossctc_train_char'\u001b[0m\u001b[0;34m]\u001b[0m\u001b[0;34m[\u001b[0m\u001b[0;36m1\u001b[0m\u001b[0;34m]\u001b[0m\u001b[0;34m,\u001b[0m\u001b[0;34m'r-'\u001b[0m\u001b[0;34m,\u001b[0m \u001b[0mlabel\u001b[0m\u001b[0;34m=\u001b[0m\u001b[0;34m'Loss CTC Treinamento (char)'\u001b[0m\u001b[0;34m)\u001b[0m\u001b[0;34m\u001b[0m\u001b[0;34m\u001b[0m\u001b[0m\n\u001b[1;32m      5\u001b[0m \u001b[0max1\u001b[0m\u001b[0;34m.\u001b[0m\u001b[0mplot\u001b[0m\u001b[0;34m(\u001b[0m\u001b[0mdata_raw\u001b[0m\u001b[0;34m[\u001b[0m\u001b[0;34m'vggrnn_losstotal_train_char'\u001b[0m\u001b[0;34m]\u001b[0m\u001b[0;34m[\u001b[0m\u001b[0;36m0\u001b[0m\u001b[0;34m]\u001b[0m\u001b[0;34m,\u001b[0m\u001b[0mdata_raw\u001b[0m\u001b[0;34m[\u001b[0m\u001b[0;34m'vggrnn_losstotal_train_char'\u001b[0m\u001b[0;34m]\u001b[0m\u001b[0;34m[\u001b[0m\u001b[0;36m1\u001b[0m\u001b[0;34m]\u001b[0m\u001b[0;34m,\u001b[0m\u001b[0;34m'g-'\u001b[0m\u001b[0;34m,\u001b[0m \u001b[0mlabel\u001b[0m\u001b[0;34m=\u001b[0m\u001b[0;34m'Loss Total Treinamento (char)'\u001b[0m\u001b[0;34m)\u001b[0m\u001b[0;34m\u001b[0m\u001b[0;34m\u001b[0m\u001b[0m\n",
      "\u001b[0;31mKeyError\u001b[0m: 'vggrnn_lossatt_train_char'"
     ]
    },
    {
     "data": {
      "image/png": "[encoded data removed]",
      "text/plain": [
       "<Figure size 432x288 with 1 Axes>"
      ]
     },
     "metadata": {
      "needs_background": "light"
     },
     "output_type": "display_data"
    }
   ],
   "source": [
    "fig, ax1 = plt.subplots()\n",
    "ax1.set_title('Funções custo de treinamento e validação do modelo ConvRNN')\n",
    "ax1.plot(data_raw['vggrnn_lossatt_train_char'][0],data_raw['vggrnn_lossatt_train_char'][1], 'b-', label='Loss attention Treinamento (char)')\n",
    "ax1.plot(data_raw['vggrnn_lossctc_train_char'][0],data_raw['vggrnn_lossctc_train_char'][1],'r-', label='Loss CTC Treinamento (char)')\n",
    "ax1.plot(data_raw['vggrnn_losstotal_train_char'][0],data_raw['vggrnn_losstotal_train_char'][1],'g-', label='Loss Total Treinamento (char)')\n",
    "ax1.plot(data_raw['vggrnn_lossatt_train_bpe'][0],data_raw['vggrnn_lossatt_train_bpe'][1], 'c-', label='Loss attention Treinamento (subwords)')\n",
    "ax1.plot(data_raw['vggrnn_lossctc_train_bpe'][0],data_raw['vggrnn_lossctc_train_bpe'][1],'m-', label='Loss CTC Treinamento (subwords)')\n",
    "ax1.plot(data_raw['vggrnn_losstotal_train_bpe'][0],data_raw['vggrnn_losstotal_train_bpe'][1],'y-', label='Loss Total Treinamento (subwords)')\n",
    "\n",
    "\n",
    "ax1.set_xlabel('Train steps')\n",
    "ax1.set_ylabel('Loss')\n",
    "\n",
    "ax2 = ax1.twiny()\n",
    "\n",
    "ax2.plot(data_raw['vggrnn_lossatt_val_char'][0],data_raw['vggrnn_lossatt_val_char'][1],'b--', label='Loss attention Validação (char)'  )\n",
    "ax2.plot(data_raw['vggrnn_lossctc_val_char'][0],data_raw['vggrnn_lossctc_val_char'][1], 'r--',label='Loss CTC Validação (char)')\n",
    "ax2.plot(data_raw['vggrnn_losstotal_val_char'][0],data_raw['vggrnn_losstotal_val_char'][1], 'g--',label='Loss Total Validação (char)')\n",
    "ax2.plot(data_raw['vggrnn_lossatt_val_bpe'][0],data_raw['vggrnn_lossatt_val_bpe'][1],'c--', label='Loss attention Validação (subwords)'  )\n",
    "ax2.plot(data_raw['vggrnn_lossctc_val_bpe'][0],data_raw['vggrnn_lossctc_val_bpe'][1], 'm--',label='Loss CTC Validação (subwords)')\n",
    "ax2.plot(data_raw['vggrnn_losstotal_val_bpe'][0],data_raw['vggrnn_losstotal_val_bpe'][1], 'y--',label='Loss Total Validação (subwords)')\n",
    "\n",
    "ax2.set_xlabel('Época')\n",
    "ax2.set_ylabel('Acc')  # we already handled the x-label with ax1\n",
    "lgd = fig.legend(loc='center left', bbox_to_anchor=(1, 0.5))\n",
    "fig.tight_layout()\n",
    "fig.show()\n",
    "ax1.grid()\n",
    "ax1.set_xlim(xmin=0)\n",
    "fig.savefig(root_dir+'losses_vggrnn.png', bbox_extra_artists=(lgd,), bbox_inches='tight')"
   ]
  },
  {
   "cell_type": "code",
   "execution_count": null,
   "metadata": {},
   "outputs": [],
   "source": [
    "fig, ax1 = plt.subplots()\n",
    "ax1.set_title('Acurácia de treinamento e validação do modelo Transformer')\n",
    "ax1.plot(data_raw['transformer_acc_train_char'][0],data_raw['transformer_acc_train_char'][1], label='Treinamento  (char)', color='b' )\n",
    "ax1.plot(data_raw['transformer_acc_train_bpe'][0],data_raw['transformer_acc_train_bpe'][1], label='Treinamento (subwords)', color='c' )\n",
    "\n",
    "ax1.set_xlabel('Train steps')\n",
    "ax1.set_ylabel('Acurácia')\n",
    "ax2 = ax1.twiny()\n",
    "ax2.plot(data_raw['transformer_acc_val_char'][0],data_raw['transformer_acc_val_char'][1], label='Validação (char)', color='r')\n",
    "ax2.plot(data_raw['transformer_acc_val_bpe'][0],data_raw['transformer_acc_val_bpe'][1], label='Validação (subwords)', color='m')\n",
    "ax2.set_xlabel('Época')\n",
    "ax2.set_ylabel('Acurácia')  # we already handled the x-label with ax1\n",
    "lgd = fig.legend(loc='center left', bbox_to_anchor=(1, 0.5))\n",
    "fig.tight_layout()\n",
    "fig.show()\n",
    "ax1.grid()\n",
    "ax1.set_xlim(xmin=0)\n",
    "fig.savefig(root_dir+'acc_transformer.png', bbox_extra_artists=(lgd,), bbox_inches='tight')"
   ]
  },
  {
   "cell_type": "code",
   "execution_count": 5,
   "metadata": {},
   "outputs": [
    {
     "ename": "KeyError",
     "evalue": "'transformer_lossatt_train_char'",
     "output_type": "error",
     "traceback": [
      "\u001b[0;31m---------------------------------------------------------------------------\u001b[0m",
      "\u001b[0;31mKeyError\u001b[0m                                  Traceback (most recent call last)",
      "\u001b[0;32m<ipython-input-5-18cbd13105d2>\u001b[0m in \u001b[0;36m<module>\u001b[0;34m\u001b[0m\n\u001b[1;32m      1\u001b[0m \u001b[0mfig\u001b[0m\u001b[0;34m,\u001b[0m \u001b[0max1\u001b[0m \u001b[0;34m=\u001b[0m \u001b[0mplt\u001b[0m\u001b[0;34m.\u001b[0m\u001b[0msubplots\u001b[0m\u001b[0;34m(\u001b[0m\u001b[0;34m)\u001b[0m\u001b[0;34m\u001b[0m\u001b[0;34m\u001b[0m\u001b[0m\n\u001b[1;32m      2\u001b[0m \u001b[0max1\u001b[0m\u001b[0;34m.\u001b[0m\u001b[0mset_title\u001b[0m\u001b[0;34m(\u001b[0m\u001b[0;34m'Funções custo de treinamento e validação do modelo Transformer'\u001b[0m\u001b[0;34m)\u001b[0m\u001b[0;34m\u001b[0m\u001b[0;34m\u001b[0m\u001b[0m\n\u001b[0;32m----> 3\u001b[0;31m \u001b[0max1\u001b[0m\u001b[0;34m.\u001b[0m\u001b[0mplot\u001b[0m\u001b[0;34m(\u001b[0m\u001b[0mdata_raw\u001b[0m\u001b[0;34m[\u001b[0m\u001b[0;34m'transformer_lossatt_train_char'\u001b[0m\u001b[0;34m]\u001b[0m\u001b[0;34m[\u001b[0m\u001b[0;36m0\u001b[0m\u001b[0;34m]\u001b[0m\u001b[0;34m,\u001b[0m\u001b[0mdata_raw\u001b[0m\u001b[0;34m[\u001b[0m\u001b[0;34m'transformer_lossatt_train_char'\u001b[0m\u001b[0;34m]\u001b[0m\u001b[0;34m[\u001b[0m\u001b[0;36m1\u001b[0m\u001b[0;34m]\u001b[0m\u001b[0;34m,\u001b[0m \u001b[0;34m'b-'\u001b[0m\u001b[0;34m,\u001b[0m \u001b[0mlabel\u001b[0m\u001b[0;34m=\u001b[0m\u001b[0;34m'Loss attention Treinamento (char)'\u001b[0m\u001b[0;34m)\u001b[0m\u001b[0;34m\u001b[0m\u001b[0;34m\u001b[0m\u001b[0m\n\u001b[0m\u001b[1;32m      4\u001b[0m \u001b[0max1\u001b[0m\u001b[0;34m.\u001b[0m\u001b[0mplot\u001b[0m\u001b[0;34m(\u001b[0m\u001b[0mdata_raw\u001b[0m\u001b[0;34m[\u001b[0m\u001b[0;34m'transformer_lossctc_train_char'\u001b[0m\u001b[0;34m]\u001b[0m\u001b[0;34m[\u001b[0m\u001b[0;36m0\u001b[0m\u001b[0;34m]\u001b[0m\u001b[0;34m,\u001b[0m\u001b[0mdata_raw\u001b[0m\u001b[0;34m[\u001b[0m\u001b[0;34m'transformer_lossctc_train_char'\u001b[0m\u001b[0;34m]\u001b[0m\u001b[0;34m[\u001b[0m\u001b[0;36m1\u001b[0m\u001b[0;34m]\u001b[0m\u001b[0;34m,\u001b[0m\u001b[0;34m'r-'\u001b[0m\u001b[0;34m,\u001b[0m \u001b[0mlabel\u001b[0m\u001b[0;34m=\u001b[0m\u001b[0;34m'Loss CTC Treinamento (char)'\u001b[0m\u001b[0;34m)\u001b[0m\u001b[0;34m\u001b[0m\u001b[0;34m\u001b[0m\u001b[0m\n\u001b[1;32m      5\u001b[0m \u001b[0max1\u001b[0m\u001b[0;34m.\u001b[0m\u001b[0mplot\u001b[0m\u001b[0;34m(\u001b[0m\u001b[0mdata_raw\u001b[0m\u001b[0;34m[\u001b[0m\u001b[0;34m'transformer_losstotal_train_char'\u001b[0m\u001b[0;34m]\u001b[0m\u001b[0;34m[\u001b[0m\u001b[0;36m0\u001b[0m\u001b[0;34m]\u001b[0m\u001b[0;34m,\u001b[0m\u001b[0mdata_raw\u001b[0m\u001b[0;34m[\u001b[0m\u001b[0;34m'transformer_losstotal_train_char'\u001b[0m\u001b[0;34m]\u001b[0m\u001b[0;34m[\u001b[0m\u001b[0;36m1\u001b[0m\u001b[0;34m]\u001b[0m\u001b[0;34m,\u001b[0m\u001b[0;34m'g-'\u001b[0m\u001b[0;34m,\u001b[0m \u001b[0mlabel\u001b[0m\u001b[0;34m=\u001b[0m\u001b[0;34m'Loss Total Treinamento (char)'\u001b[0m\u001b[0;34m)\u001b[0m\u001b[0;34m\u001b[0m\u001b[0;34m\u001b[0m\u001b[0m\n",
      "\u001b[0;31mKeyError\u001b[0m: 'transformer_lossatt_train_char'"
     ]
    },
    {
     "data": {
      "image/png": "[encoded data removed]",
      "text/plain": [
       "<Figure size 432x288 with 1 Axes>"
      ]
     },
     "metadata": {
      "needs_background": "light"
     },
     "output_type": "display_data"
    }
   ],
   "source": [
    "fig, ax1 = plt.subplots()\n",
    "ax1.set_title('Funções custo de treinamento e validação do modelo Transformer')\n",
    "ax1.plot(data_raw['transformer_lossatt_train_char'][0],data_raw['transformer_lossatt_train_char'][1], 'b-', label='Loss attention Treinamento (char)')\n",
    "ax1.plot(data_raw['transformer_lossctc_train_char'][0],data_raw['transformer_lossctc_train_char'][1],'r-', label='Loss CTC Treinamento (char)')\n",
    "ax1.plot(data_raw['transformer_losstotal_train_char'][0],data_raw['transformer_losstotal_train_char'][1],'g-', label='Loss Total Treinamento (char)')\n",
    "ax1.plot(data_raw['transformer_lossatt_train_bpe'][0],data_raw['transformer_lossatt_train_bpe'][1], 'c-', label='Loss attention Treinamento (subwords)')\n",
    "ax1.plot(data_raw['transformer_lossctc_train_bpe'][0],data_raw['transformer_lossctc_train_bpe'][1],'m-', label='Loss CTC Treinamento (subwords)')\n",
    "ax1.plot(data_raw['transformer_losstotal_train_bpe'][0],data_raw['transformer_losstotal_train_bpe'][1],'y-', label='Loss Total Treinamento (subwords)')\n",
    "\n",
    "ax1.set_xlabel('Train steps')\n",
    "ax1.set_ylabel('Loss')\n",
    "\n",
    "ax2 = ax1.twiny()\n",
    "\n",
    "ax2.plot(data_raw['transformer_lossatt_val_char'][0],data_raw['transformer_lossatt_val_char'][1],'b--', label='Loss attention Validação (char)'  )\n",
    "ax2.plot(data_raw['transformer_lossctc_val_char'][0],data_raw['transformer_lossctc_val_char'][1], 'r--',label='Loss CTC Validação (char)')\n",
    "ax2.plot(data_raw['transformer_losstotal_val_char'][0],data_raw['transformer_losstotal_val_char'][1], 'g--',label='Loss Total Validação (char)')\n",
    "ax2.plot(data_raw['transformer_lossatt_val_bpe'][0],data_raw['transformer_lossatt_val_bpe'][1],'c--', label='Loss attention Validação (subwords)'  )\n",
    "ax2.plot(data_raw['transformer_lossctc_val_bpe'][0],data_raw['transformer_lossctc_val_bpe'][1], 'm--',label='Loss CTC Validação (subwords)')\n",
    "ax2.plot(data_raw['transformer_losstotal_val_bpe'][0],data_raw['transformer_losstotal_val_bpe'][1], 'y--',label='Loss Total Validação (subwords)')\n",
    "\n",
    "ax2.set_xlabel('Época')\n",
    "ax2.set_ylabel('Acc')  # we already handled the x-label with ax1\n",
    "lgd = fig.legend(loc='center left', bbox_to_anchor=(1, 0.5))\n",
    "fig.tight_layout()\n",
    "fig.show()\n",
    "ax1.grid()\n",
    "ax1.set_xlim(xmin=0)\n",
    "fig.savefig(root_dir+'losses_transformer.png', bbox_extra_artists=(lgd,), bbox_inches='tight')"
   ]
  },
  {
   "cell_type": "code",
   "execution_count": 6,
   "metadata": {},
   "outputs": [
    {
     "ename": "NameError",
     "evalue": "name 'json' is not defined",
     "output_type": "error",
     "traceback": [
      "\u001b[0;31m---------------------------------------------------------------------------\u001b[0m",
      "\u001b[0;31mNameError\u001b[0m                                 Traceback (most recent call last)",
      "\u001b[0;32m<ipython-input-6-539613110b4b>\u001b[0m in \u001b[0;36m<module>\u001b[0;34m\u001b[0m\n\u001b[1;32m      8\u001b[0m             \u001b[0my\u001b[0m \u001b[0;34m=\u001b[0m \u001b[0;34m[\u001b[0m\u001b[0;34m]\u001b[0m\u001b[0;34m\u001b[0m\u001b[0;34m\u001b[0m\u001b[0m\n\u001b[1;32m      9\u001b[0m             \u001b[0mtag\u001b[0m \u001b[0;34m=\u001b[0m \u001b[0mmodel_type\u001b[0m\u001b[0;34m+\u001b[0m\u001b[0;34m'_lr0_'\u001b[0m\u001b[0;34m+\u001b[0m\u001b[0mtoken_type\u001b[0m\u001b[0;34m\u001b[0m\u001b[0;34m\u001b[0m\u001b[0m\n\u001b[0;32m---> 10\u001b[0;31m             \u001b[0;32mfor\u001b[0m \u001b[0mitem\u001b[0m \u001b[0;32min\u001b[0m \u001b[0mjson\u001b[0m\u001b[0;34m.\u001b[0m\u001b[0mload\u001b[0m\u001b[0;34m(\u001b[0m\u001b[0mf\u001b[0m\u001b[0;34m)\u001b[0m\u001b[0;34m:\u001b[0m\u001b[0;34m\u001b[0m\u001b[0;34m\u001b[0m\u001b[0m\n\u001b[0m\u001b[1;32m     11\u001b[0m                 \u001b[0m_\u001b[0m\u001b[0;34m,\u001b[0m\u001b[0mxx\u001b[0m\u001b[0;34m,\u001b[0m\u001b[0myy\u001b[0m\u001b[0;34m=\u001b[0m\u001b[0mitem\u001b[0m\u001b[0;34m\u001b[0m\u001b[0;34m\u001b[0m\u001b[0m\n\u001b[1;32m     12\u001b[0m                 \u001b[0mx\u001b[0m\u001b[0;34m.\u001b[0m\u001b[0mappend\u001b[0m\u001b[0;34m(\u001b[0m\u001b[0mxx\u001b[0m\u001b[0;34m)\u001b[0m\u001b[0;34m\u001b[0m\u001b[0;34m\u001b[0m\u001b[0m\n",
      "\u001b[0;31mNameError\u001b[0m: name 'json' is not defined"
     ]
    }
   ],
   "source": [
    "root_dir = '/mnt/c/Users/aluca/Desktop/relatorio_ML/imagens/train_data/'\n",
    "\n",
    "lr_data = {}\n",
    "for model_type in ['rnn', 'vggrnn', 'transformer']:\n",
    "    for token_type in ['char' , 'bpe']:\n",
    "        with open(root_dir+model_type+'_lr0_'+token_type+'.json') as f:\n",
    "            x = []\n",
    "            y = []\n",
    "            tag = model_type+'_lr0_'+token_type\n",
    "            for item in json.load(f):\n",
    "                _,xx,yy=item\n",
    "                x.append(xx)\n",
    "                y.append(yy)\n",
    "\n",
    "            lr_data[tag]  = (x,y)"
   ]
  },
  {
   "cell_type": "code",
   "execution_count": 7,
   "metadata": {},
   "outputs": [
    {
     "data": {
      "text/plain": [
       "dict_keys([])"
      ]
     },
     "execution_count": 7,
     "metadata": {},
     "output_type": "execute_result"
    }
   ],
   "source": [
    "lr_data.keys()\n"
   ]
  },
  {
   "cell_type": "code",
   "execution_count": 8,
   "metadata": {},
   "outputs": [
    {
     "ename": "KeyError",
     "evalue": "'rnn_lr0_char'",
     "output_type": "error",
     "traceback": [
      "\u001b[0;31m---------------------------------------------------------------------------\u001b[0m",
      "\u001b[0;31mKeyError\u001b[0m                                  Traceback (most recent call last)",
      "\u001b[0;32m<ipython-input-8-744ee51ba350>\u001b[0m in \u001b[0;36m<module>\u001b[0;34m\u001b[0m\n\u001b[1;32m      2\u001b[0m \u001b[0max1\u001b[0m\u001b[0;34m.\u001b[0m\u001b[0mset_title\u001b[0m\u001b[0;34m(\u001b[0m\u001b[0;34m'Learning rate'\u001b[0m\u001b[0;34m)\u001b[0m\u001b[0;34m\u001b[0m\u001b[0;34m\u001b[0m\u001b[0m\n\u001b[1;32m      3\u001b[0m \u001b[0;34m\u001b[0m\u001b[0m\n\u001b[0;32m----> 4\u001b[0;31m \u001b[0max1\u001b[0m\u001b[0;34m.\u001b[0m\u001b[0mplot\u001b[0m\u001b[0;34m(\u001b[0m\u001b[0mlr_data\u001b[0m\u001b[0;34m[\u001b[0m\u001b[0;34m'rnn_lr0_char'\u001b[0m\u001b[0;34m]\u001b[0m\u001b[0;34m[\u001b[0m\u001b[0;36m0\u001b[0m\u001b[0;34m]\u001b[0m\u001b[0;34m,\u001b[0m\u001b[0mlr_data\u001b[0m\u001b[0;34m[\u001b[0m\u001b[0;34m'rnn_lr0_char'\u001b[0m\u001b[0;34m]\u001b[0m\u001b[0;34m[\u001b[0m\u001b[0;36m1\u001b[0m\u001b[0;34m]\u001b[0m\u001b[0;34m,\u001b[0m \u001b[0;34m'b'\u001b[0m\u001b[0;34m,\u001b[0m \u001b[0mlabel\u001b[0m\u001b[0;34m=\u001b[0m \u001b[0;34m\"RNN (char)\"\u001b[0m\u001b[0;34m)\u001b[0m\u001b[0;34m\u001b[0m\u001b[0;34m\u001b[0m\u001b[0m\n\u001b[0m\u001b[1;32m      5\u001b[0m \u001b[0max1\u001b[0m\u001b[0;34m.\u001b[0m\u001b[0mplot\u001b[0m\u001b[0;34m(\u001b[0m\u001b[0mlr_data\u001b[0m\u001b[0;34m[\u001b[0m\u001b[0;34m'rnn_lr0_bpe'\u001b[0m\u001b[0;34m]\u001b[0m\u001b[0;34m[\u001b[0m\u001b[0;36m0\u001b[0m\u001b[0;34m]\u001b[0m\u001b[0;34m,\u001b[0m\u001b[0mlr_data\u001b[0m\u001b[0;34m[\u001b[0m\u001b[0;34m'rnn_lr0_bpe'\u001b[0m\u001b[0;34m]\u001b[0m\u001b[0;34m[\u001b[0m\u001b[0;36m1\u001b[0m\u001b[0;34m]\u001b[0m\u001b[0;34m,\u001b[0m \u001b[0;34m'r'\u001b[0m \u001b[0;34m,\u001b[0m \u001b[0mlabel\u001b[0m\u001b[0;34m=\u001b[0m \u001b[0;34m\"RNN (subwords)\"\u001b[0m\u001b[0;34m)\u001b[0m\u001b[0;34m\u001b[0m\u001b[0;34m\u001b[0m\u001b[0m\n\u001b[1;32m      6\u001b[0m \u001b[0max1\u001b[0m\u001b[0;34m.\u001b[0m\u001b[0mplot\u001b[0m\u001b[0;34m(\u001b[0m\u001b[0mlr_data\u001b[0m\u001b[0;34m[\u001b[0m\u001b[0;34m'vggrnn_lr0_char'\u001b[0m\u001b[0;34m]\u001b[0m\u001b[0;34m[\u001b[0m\u001b[0;36m0\u001b[0m\u001b[0;34m]\u001b[0m\u001b[0;34m,\u001b[0m\u001b[0mlr_data\u001b[0m\u001b[0;34m[\u001b[0m\u001b[0;34m'vggrnn_lr0_char'\u001b[0m\u001b[0;34m]\u001b[0m\u001b[0;34m[\u001b[0m\u001b[0;36m1\u001b[0m\u001b[0;34m]\u001b[0m\u001b[0;34m,\u001b[0m \u001b[0;34m'c'\u001b[0m\u001b[0;34m,\u001b[0m \u001b[0mlabel\u001b[0m\u001b[0;34m=\u001b[0m \u001b[0;34m\"ConvRNN (char)\"\u001b[0m\u001b[0;34m)\u001b[0m\u001b[0;34m\u001b[0m\u001b[0;34m\u001b[0m\u001b[0m\n",
      "\u001b[0;31mKeyError\u001b[0m: 'rnn_lr0_char'"
     ]
    },
    {
     "data": {
      "image/png": "[encoded data removed]",
      "text/plain": [
       "<Figure size 432x288 with 1 Axes>"
      ]
     },
     "metadata": {
      "needs_background": "light"
     },
     "output_type": "display_data"
    }
   ],
   "source": [
    "fig, ax1 = plt.subplots()\n",
    "ax1.set_title('Learning rate')\n",
    "\n",
    "ax1.plot(lr_data['rnn_lr0_char'][0],lr_data['rnn_lr0_char'][1], 'b', label= \"RNN (char)\")\n",
    "ax1.plot(lr_data['rnn_lr0_bpe'][0],lr_data['rnn_lr0_bpe'][1], 'r' , label= \"RNN (subwords)\")\n",
    "ax1.plot(lr_data['vggrnn_lr0_char'][0],lr_data['vggrnn_lr0_char'][1], 'c', label= \"ConvRNN (char)\")\n",
    "ax1.plot(lr_data['vggrnn_lr0_bpe'][0],lr_data['vggrnn_lr0_bpe'][1], 'm', label= \"ConvRNN (subwords)\")\n",
    "ax1.set_xlabel('Train steps')\n",
    "ax1.set_ylabel('Adadelta Learning Rate')\n",
    "\n",
    "ax2 = ax1.twinx()\n",
    "ax2.plot(lr_data['transformer_lr0_char'][0],lr_data['transformer_lr0_char'][1], 'g', label='Transformer (char)')\n",
    "ax2.plot(lr_data['transformer_lr0_bpe'][0],lr_data['transformer_lr0_bpe'][1], 'y',  label='Transformer (subwords)')\n",
    "ax2.set_ylabel('Transformer Learning Rate')\n",
    "\n",
    "lgd = fig.legend(loc='center left', bbox_to_anchor=(1, 0.5))\n",
    "fig.tight_layout()\n",
    "fig.show()\n",
    "ax1.set_xlim(xmin=0)\n",
    "fig.savefig(root_dir+'lr.png', bbox_extra_artists=(lgd,), bbox_inches='tight')"
   ]
  },
  {
   "cell_type": "code",
   "execution_count": null,
   "metadata": {},
   "outputs": [],
   "source": []
  },
  {
   "cell_type": "code",
   "execution_count": null,
   "metadata": {},
   "outputs": [],
   "source": []
  },
  {
   "cell_type": "code",
   "execution_count": null,
   "metadata": {},
   "outputs": [],
   "source": []
  }
 ],
 "metadata": {
  "kernelspec": {
   "display_name": "Python 3",
   "language": "python",
   "name": "python3"
  },
  "language_info": {
   "codemirror_mode": {
    "name": "ipython",
    "version": 3
   },
   "file_extension": ".py",
   "mimetype": "text/x-python",
   "name": "python",
   "nbconvert_exporter": "python",
   "pygments_lexer": "ipython3",
   "version": "3.7.9"
  }
 },
 "nbformat": 4,
 "nbformat_minor": 4
}
